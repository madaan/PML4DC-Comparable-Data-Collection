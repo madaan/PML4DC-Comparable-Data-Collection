{
 "cells": [
  {
   "cell_type": "code",
   "execution_count": 42,
   "metadata": {},
   "outputs": [],
   "source": [
    "import pandas as pd\n",
    "import os\n",
    "from IPython.display import Image, display\n",
    "from IPython.html.widgets import interact\n",
    "from collections import defaultdict\n",
    "from ipywidgets import interact, interactive, fixed, interact_manual\n",
    "import ipywidgets as widgets\n"
   ]
  },
  {
   "cell_type": "code",
   "execution_count": 5,
   "metadata": {},
   "outputs": [],
   "source": [
    "path = 'Flicker8k_Dataset/'\n",
    "imgs = list(filter(lambda fn:fn.lower().endswith('.jpg'), os.listdir(path)))"
   ]
  },
  {
   "cell_type": "code",
   "execution_count": 77,
   "metadata": {},
   "outputs": [],
   "source": [
    "def format_caption(x):\n",
    "    return \" \".join([f\"{x[0]}. {x[1]} | \" for x in zip(range(len(x)), x)])"
   ]
  },
  {
   "cell_type": "code",
   "execution_count": 47,
   "metadata": {},
   "outputs": [],
   "source": [
    "en_caption_to_fr_xlation = pd.read_csv(\"en_caption_to_fr_xlation.tsv\", sep=\"\\t\")\n",
    "en_caption_to_url = pd.read_csv(\"en_caption_to_url.tsv\", sep=\"\\t\")\n",
    "url_to_fr_caption = pd.read_csv(\"url_to_fr_caption.tsv\", sep=\"\\t\")\n",
    "en_caption_to_fr_xlation_url = pd.merge(left=en_caption_to_fr_xlation, right=en_caption_to_url, on=\"en_caption\")\n",
    "url_to_fr_caption = url_to_fr_caption.groupby(\"img_url\")[\"fr_caption\"].apply(list).reset_index()\n",
    "en_caption_to_fr_xlation_url.sort_values(by=\"img_url\", inplace=True)"
   ]
  },
  {
   "cell_type": "code",
   "execution_count": 84,
   "metadata": {},
   "outputs": [],
   "source": [
    "def analyze_img(i):\n",
    "    # en_caption\tfr_xlation\timg_url\n",
    "    data = en_caption_to_fr_xlation_url.iloc[i]\n",
    "    en_caption = data[\"en_caption\"]\n",
    "    fr_xlation = data[\"fr_xlation\"]\n",
    "    img_url = data[\"img_url\"]\n",
    "    noted_captions = format_caption(url_to_fr_caption[url_to_fr_caption[\"img_url\"] == img_url][\"fr_caption\"].values[0])\n",
    "    display(Image(open(os.path.join(path, img_url),'rb').read()))\n",
    "    print(en_caption)\n",
    "    print(fr_xlation)\n",
    "    print(\"--\")\n",
    "    print(noted_captions)\n",
    "    # print(\" \".join(noted_captions))\n",
    "    # print(f\"Original caption {en_caption}\")\n",
    "    # print(f\"Hindi xlation {fr_xlation}\")"
   ]
  },
  {
   "cell_type": "code",
   "execution_count": 85,
   "metadata": {},
   "outputs": [
    {
     "data": {
      "application/vnd.jupyter.widget-view+json": {
       "model_id": "d0000439ca824a9bab0e562850cf9c82",
       "version_major": 2,
       "version_minor": 0
      },
      "text/plain": [
       "interactive(children=(IntSlider(value=0, description='i', max=968), Output()), _dom_classes=('widget-interact'…"
      ]
     },
     "metadata": {},
     "output_type": "display_data"
    },
    {
     "data": {
      "text/plain": [
       "<function __main__.analyze_img(i)>"
      ]
     },
     "execution_count": 85,
     "metadata": {},
     "output_type": "execute_result"
    }
   ],
   "source": [
    "interact(analyze_img, i=widgets.IntSlider(min=0, max=len(en_caption_to_fr_xlation_url),\n",
    "                                                      step=1))"
   ]
  },
  {
   "cell_type": "code",
   "execution_count": 66,
   "metadata": {},
   "outputs": [
    {
     "data": {
      "text/plain": [
       "list"
      ]
     },
     "execution_count": 66,
     "metadata": {},
     "output_type": "execute_result"
    }
   ],
   "source": [
    "type(x)"
   ]
  },
  {
   "cell_type": "code",
   "execution_count": null,
   "metadata": {},
   "outputs": [],
   "source": [
    "type()"
   ]
  }
 ],
 "metadata": {
  "kernelspec": {
   "display_name": "Python 3",
   "language": "python",
   "name": "python3"
  },
  "language_info": {
   "codemirror_mode": {
    "name": "ipython",
    "version": 3
   },
   "file_extension": ".py",
   "mimetype": "text/x-python",
   "name": "python",
   "nbconvert_exporter": "python",
   "pygments_lexer": "ipython3",
   "version": "3.7.3"
  }
 },
 "nbformat": 4,
 "nbformat_minor": 2
}
